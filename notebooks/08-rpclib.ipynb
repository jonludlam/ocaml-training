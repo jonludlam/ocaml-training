{
 "cells": [
  {
   "cell_type": "code",
   "execution_count": 1,
   "metadata": {
    "collapsed": false
   },
   "outputs": [
    {
     "name": "stdout",
     "output_type": "stream",
     "text": [
      "- : unit = ()\n",
      "Findlib has been successfully loaded. Additional directives:\n",
      "  #require \"package\";;      to load a package\n",
      "  #list;;                   to list the available packages\n",
      "  #camlp4o;;                to load camlp4 (standard syntax)\n",
      "  #camlp4r;;                to load camlp4 (revised syntax)\n",
      "  #predicates \"p,q,...\";;   to set these predicates\n",
      "  Topfind.reset();;         to force that packages will be reloaded\n",
      "  #thread;;                 to enable threads\n",
      "\n",
      "- : unit = ()\n"
     ]
    }
   ],
   "source": [
    "#use \"topfind\""
   ]
  },
  {
   "cell_type": "code",
   "execution_count": null,
   "metadata": {
    "collapsed": false
   },
   "outputs": [
    {
     "name": "stderr",
     "output_type": "stream",
     "text": [
      "/home/jludlam/.opam/4.02.3/lib/result: added to search path\n",
      "/home/jludlam/.opam/4.02.3/lib/result/result.cma: loaded\n",
      "/home/jludlam/.opam/4.02.3/lib/ppx_deriving: added to search path\n",
      "/home/jludlam/.opam/4.02.3/lib/ppx_deriving/ppx_deriving_runtime.cma: loaded\n",
      "/home/jludlam/.opam/4.02.3/lib/ppx_deriving/./ppx_deriving: activated\n",
      "/home/jludlam/.opam/4.02.3/lib/xmlm: added to search path\n",
      "/home/jludlam/.opam/4.02.3/lib/xmlm/xmlm.cma: loaded\n",
      "/home/jludlam/.opam/4.02.3/lib/rresult: added to search path\n",
      "/home/jludlam/.opam/4.02.3/lib/rresult/rresult.cma: loaded\n",
      "/home/jludlam/.opam/4.02.3/lib/rpclib: added to search path\n",
      "/home/jludlam/.opam/4.02.3/lib/rpclib/rpclib_core.cma: loaded\n",
      "/home/jludlam/.opam/4.02.3/lib/rpclib/xml.cma: loaded\n",
      "/home/jludlam/.opam/4.02.3/lib/rpclib/rpclib.cma: loaded\n",
      "/home/jludlam/.opam/4.02.3/lib/ppx_deriving_rpc: added to search path\n"
     ]
    }
   ],
   "source": [
    "#require \"ppx_deriving_rpc\""
   ]
  },
  {
   "cell_type": "raw",
   "metadata": {},
   "source": [
    "#require \"rpclib\""
   ]
  },
  {
   "cell_type": "code",
   "execution_count": null,
   "metadata": {
    "collapsed": false
   },
   "outputs": [],
   "source": [
    "type pet = {\n",
    "    name: string;\n",
    "    noise: string;\n",
    "    age: int;\n",
    "} [@@deriving rpc]"
   ]
  },
  {
   "cell_type": "code",
   "execution_count": null,
   "metadata": {
    "collapsed": false
   },
   "outputs": [],
   "source": [
    "let dog = {name = \"Rover\"; noise = \"woof\"; age = 4}"
   ]
  },
  {
   "cell_type": "code",
   "execution_count": null,
   "metadata": {
    "collapsed": false
   },
   "outputs": [],
   "source": [
    "let rpc = rpc_of_pet dog"
   ]
  },
  {
   "cell_type": "code",
   "execution_count": null,
   "metadata": {
    "collapsed": false
   },
   "outputs": [],
   "source": [
    "Rpc.to_string rpc"
   ]
  },
  {
   "cell_type": "code",
   "execution_count": null,
   "metadata": {
    "collapsed": true
   },
   "outputs": [],
   "source": []
  }
 ],
 "metadata": {
  "kernelspec": {
   "display_name": "OCaml",
   "language": "ocaml",
   "name": "iocaml-kernel"
  },
  "language_info": {
   "name": "ocaml",
   "version": "4.1.0"
  }
 },
 "nbformat": 4,
 "nbformat_minor": 0
}
