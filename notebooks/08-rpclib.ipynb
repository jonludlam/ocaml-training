{
 "cells": [
  {
   "cell_type": "code",
   "execution_count": 1,
   "metadata": {
    "collapsed": false
   },
   "outputs": [
    {
     "name": "stderr",
     "output_type": "stream",
     "text": [
      "/home/jludlam/.opam/4.02.3/lib/ocaml/dynlink.cma: loaded\n",
      "/home/jludlam/.opam/4.02.3/lib/ocaml/camlp4: added to search path\n",
      "/home/jludlam/.opam/4.02.3/lib/type_conv: added to search path\n",
      "/home/jludlam/.opam/4.02.3/lib/result: added to search path\n",
      "/home/jludlam/.opam/4.02.3/lib/result/result.cma: loaded\n",
      "/home/jludlam/.opam/4.02.3/lib/rpclib: added to search path\n"
     ]
    }
   ],
   "source": [
    "#require \"rpclib.syntax\""
   ]
  },
  {
   "cell_type": "code",
   "execution_count": 2,
   "metadata": {
    "collapsed": false
   },
   "outputs": [
    {
     "data": {
      "text/html": [
       "<pre style=\"color:red;max-height:100px;overflow:hidden\" \n",
       "onclick=\"\n",
       "if (this.style.maxHeight === 'none') \n",
       "    this.style.maxHeight = '100px';\n",
       "else\n",
       "    this.style.maxHeight = 'none'; \n",
       "\">File &quot;[2]&quot;, line 5, characters 2-6:\n",
       "Error: Syntax error\n",
       "Characters 66-70:\n",
       "  } with rpc\n",
       "    ^^^^\n",
       "</pre>"
      ]
     },
     "execution_count": 2,
     "metadata": {},
     "output_type": "execute_result"
    }
   ],
   "source": [
    "type pet = {\n",
    "    name: string;\n",
    "    noise: string;\n",
    "    age: int;\n",
    "} with rpc"
   ]
  },
  {
   "cell_type": "code",
   "execution_count": 3,
   "metadata": {
    "collapsed": false
   },
   "outputs": [
    {
     "name": "stdout",
     "output_type": "stream",
     "text": [
      "val dog : pet = {name = \"Rover\"; noise = \"woof\"; age = 4}\n"
     ]
    }
   ],
   "source": [
    "let dog = {name = \"Rover\"; noise = \"woof\"; age = 4}"
   ]
  },
  {
   "cell_type": "code",
   "execution_count": 4,
   "metadata": {
    "collapsed": false
   },
   "outputs": [
    {
     "name": "stdout",
     "output_type": "stream",
     "text": [
      "val rpc : Rpc.t =\n",
      "  Rpc.Dict\n",
      "   [(\"name\", Rpc.String \"Rover\"); (\"noise\", Rpc.String \"woof\");\n",
      "    (\"age\", Rpc.Int 4L)]\n"
     ]
    }
   ],
   "source": [
    "let rpc = rpc_of_pet dog"
   ]
  },
  {
   "cell_type": "code",
   "execution_count": 5,
   "metadata": {
    "collapsed": false
   },
   "outputs": [
    {
     "name": "stdout",
     "output_type": "stream",
     "text": [
      "- : string = \"{name:S(Rover);noise:S(woof);age:I(4)}\"\n"
     ]
    }
   ],
   "source": [
    "Rpc.to_string rpc"
   ]
  }
 ],
 "metadata": {
  "kernelspec": {
   "display_name": "OCaml",
   "language": "ocaml",
   "name": "iocaml-kernel"
  },
  "language_info": {
   "name": "ocaml",
   "version": "4.1.0"
  }
 },
 "nbformat": 4,
 "nbformat_minor": 0
}
