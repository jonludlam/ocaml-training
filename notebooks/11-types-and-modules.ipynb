{
 "cells": [
  {
   "cell_type": "markdown",
   "metadata": {},
   "source": [
    "## Types\n",
    "\n",
    "OCaml differs from languages such as Python in that it has a strong, static type system.   The type system is very expressive and makes it possible eliminate whole classes of errors from programs.\n",
    "\n",
    "Unlike many statically-typed languages, OCaml also has type inference.   It is not usually necessary to declare the types of bindings and functions - the compiler will infer the appropriate type automatically.    We have seen type inference in action already in our simple examples.    Here, the compiler infers that the value bound to `x` is an int:"
   ]
  },
  {
   "cell_type": "code",
   "execution_count": 1,
   "metadata": {
    "collapsed": false
   },
   "outputs": [
    {
     "data": {
      "text/html": [
       "<pre style=\"color:slategray;max-height:100px;overflow:hidden\" \n",
       "onclick=\"\n",
       "if (this.style.maxHeight === 'none') \n",
       "    this.style.maxHeight = '100px';\n",
       "else\n",
       "    this.style.maxHeight = 'none'; \n",
       "\">val x : int = 42\n",
       "</pre>"
      ]
     },
     "execution_count": 1,
     "metadata": {},
     "output_type": "execute_result"
    }
   ],
   "source": [
    "let x = 42"
   ]
  },
  {
   "cell_type": "markdown",
   "metadata": {},
   "source": [
    "Type inference also works for functions.   Here, `f` is a function that takes two ints and returns another:"
   ]
  },
  {
   "cell_type": "code",
   "execution_count": 2,
   "metadata": {
    "collapsed": false
   },
   "outputs": [
    {
     "data": {
      "text/html": [
       "<pre style=\"color:slategray;max-height:100px;overflow:hidden\" \n",
       "onclick=\"\n",
       "if (this.style.maxHeight === 'none') \n",
       "    this.style.maxHeight = '100px';\n",
       "else\n",
       "    this.style.maxHeight = 'none'; \n",
       "\">val f : int -&gt; int -&gt; int = &lt;fun&gt;\n",
       "</pre>"
      ]
     },
     "execution_count": 2,
     "metadata": {},
     "output_type": "execute_result"
    }
   ],
   "source": [
    "let f x y = x + y"
   ]
  },
  {
   "cell_type": "markdown",
   "metadata": {},
   "source": [
    "`f` is defined in curried form, so this signature actually means that `f` takes an `int` and returns a function which takes another `int` and finally returns yet another `int`."
   ]
  },
  {
   "cell_type": "markdown",
   "metadata": {},
   "source": [
    "OCaml does not promote types automatically, so floats are distinct from integers and have their own operators:"
   ]
  },
  {
   "cell_type": "code",
   "execution_count": 3,
   "metadata": {
    "collapsed": false
   },
   "outputs": [
    {
     "data": {
      "text/html": [
       "<pre style=\"color:slategray;max-height:100px;overflow:hidden\" \n",
       "onclick=\"\n",
       "if (this.style.maxHeight === 'none') \n",
       "    this.style.maxHeight = '100px';\n",
       "else\n",
       "    this.style.maxHeight = 'none'; \n",
       "\">val g : float -&gt; int -&gt; float = &lt;fun&gt;\n",
       "</pre>"
      ]
     },
     "execution_count": 3,
     "metadata": {},
     "output_type": "execute_result"
    }
   ],
   "source": [
    "let g x y = x +. (float_of_int y)"
   ]
  },
  {
   "cell_type": "markdown",
   "metadata": {},
   "source": [
    "### Defining new types\n",
    "\n",
    "OCaml gives us many ways to define new data structures.    One of the most common is the labelled variant:"
   ]
  },
  {
   "cell_type": "code",
   "execution_count": 4,
   "metadata": {
    "collapsed": false
   },
   "outputs": [
    {
     "data": {
      "text/html": [
       "<pre style=\"color:slategray;max-height:100px;overflow:hidden\" \n",
       "onclick=\"\n",
       "if (this.style.maxHeight === 'none') \n",
       "    this.style.maxHeight = '100px';\n",
       "else\n",
       "    this.style.maxHeight = 'none'; \n",
       "\">type colours = Red | Green | Blue\n",
       "</pre>"
      ]
     },
     "execution_count": 4,
     "metadata": {},
     "output_type": "execute_result"
    }
   ],
   "source": [
    "type colours = Red | Green | Blue"
   ]
  },
  {
   "cell_type": "markdown",
   "metadata": {},
   "source": [
    "The `colours` type behaves much like an enum in C:"
   ]
  },
  {
   "cell_type": "code",
   "execution_count": 5,
   "metadata": {
    "collapsed": false
   },
   "outputs": [
    {
     "data": {
      "text/html": [
       "<pre style=\"color:slategray;max-height:100px;overflow:hidden\" \n",
       "onclick=\"\n",
       "if (this.style.maxHeight === 'none') \n",
       "    this.style.maxHeight = '100px';\n",
       "else\n",
       "    this.style.maxHeight = 'none'; \n",
       "\">val rose : colours = Red\n",
       "</pre>"
      ]
     },
     "execution_count": 5,
     "metadata": {},
     "output_type": "execute_result"
    }
   ],
   "source": [
    "let rose = Red"
   ]
  },
  {
   "cell_type": "markdown",
   "metadata": {},
   "source": [
    "However labelled variants are much more powerful than this example shows.   The are actually more like unions:"
   ]
  },
  {
   "cell_type": "code",
   "execution_count": 6,
   "metadata": {
    "collapsed": false
   },
   "outputs": [
    {
     "data": {
      "text/html": [
       "<pre style=\"color:slategray;max-height:100px;overflow:hidden\" \n",
       "onclick=\"\n",
       "if (this.style.maxHeight === 'none') \n",
       "    this.style.maxHeight = '100px';\n",
       "else\n",
       "    this.style.maxHeight = 'none'; \n",
       "\">type demo =\n",
       "    BasicInt : int -&gt; demo\n",
       "  | String : string -&gt; demo\n",
       "  | Tuple : (int * string * float) -&gt; demo\n",
       "  | Bob : bool -&gt; demo\n",
       "</pre>"
      ]
     },
     "execution_count": 6,
     "metadata": {},
     "output_type": "execute_result"
    }
   ],
   "source": [
    "type demo = \n",
    "    | BasicInt : int -> demo\n",
    "    | String : string -> demo\n",
    "    | Tuple : (int * string * float) -> demo\n",
    "    | Bob : bool -> demo"
   ]
  },
  {
   "cell_type": "markdown",
   "metadata": {},
   "source": [
    "Unlike unions, we can't mix up the type of the variant when we access it:"
   ]
  },
  {
   "cell_type": "code",
   "execution_count": 7,
   "metadata": {
    "collapsed": false
   },
   "outputs": [
    {
     "name": "stderr",
     "output_type": "stream",
     "text": [
      "File \"[7]\", line 3, characters 19-129:\n",
      "Warning 8: this pattern-matching is not exhaustive.\n",
      "Here is an example of a value that is not matched:\n",
      "Bob _\n"
     ]
    },
    {
     "data": {
      "text/html": [
       "<pre style=\"color:red;max-height:100px;overflow:hidden\" \n",
       "onclick=\"\n",
       "if (this.style.maxHeight === 'none') \n",
       "    this.style.maxHeight = '100px';\n",
       "else\n",
       "    this.style.maxHeight = 'none'; \n",
       "\">Exception: Match_failure (&quot;[7]&quot;, 3, 19).\n",
       "</pre>"
      ]
     },
     "execution_count": 7,
     "metadata": {},
     "output_type": "execute_result"
    }
   ],
   "source": [
    "let mydemo = Bob true\n",
    "in\n",
    "let print_demo x = match x with\n",
    "| String s -> print_string s\n",
    "| BasicInt i -> print_int i\n",
    "| Tuple _ -> print_string \"I'm too lazy\"\n",
    "in\n",
    "print_demo mydemo"
   ]
  },
  {
   "cell_type": "markdown",
   "metadata": {},
   "source": [
    "This piece of code shows two things: \n",
    "\n",
    "  * first, the compiler warns us that that our `match` statement (equivalent to a `switch` in C) doesn't have branches to handle all the different lables defined in the `demo` type\n",
    "  * second, when we run this code, we get a runtime exception because the match failed at runtime"
   ]
  },
  {
   "cell_type": "markdown",
   "metadata": {},
   "source": [
    "## Destructuring bind\n",
    "\n",
    "The match statement above is an example of a *destructuring bind* or *pattern match*.   This concept also exists in languages such as Python.   The left hand side of the bind specifies a pattern, and if the right hand side matches the pattern its values are unpacked and bound to the names given on the left hand side.    The compiler checks, statically, that the right hand side can be matched by the left hand side and warns or fails if this is not possible.   This technique is extremely powerful - many Ocaml programs consist mainly of pattern matches.\n",
    "\n",
    "Here's a version of `print_demo` that handles all the variants in the type:"
   ]
  },
  {
   "cell_type": "code",
   "execution_count": 8,
   "metadata": {
    "collapsed": false
   },
   "outputs": [
    {
     "name": "stderr",
     "output_type": "stream",
     "text": [
      "File \"[8]\", line 1, characters 18-372:\n",
      "Warning 8: this pattern-matching is not exhaustive.\n",
      "Here is an example of a value that is not matched:\n",
      "Bob _\n"
     ]
    },
    {
     "data": {
      "text/html": [
       "<pre style=\"color:slategray;max-height:100px;overflow:hidden\" \n",
       "onclick=\"\n",
       "if (this.style.maxHeight === 'none') \n",
       "    this.style.maxHeight = '100px';\n",
       "else\n",
       "    this.style.maxHeight = 'none'; \n",
       "\">val print_demo' : demo -&gt; unit = &lt;fun&gt;\n",
       "</pre>"
      ]
     },
     "execution_count": 8,
     "metadata": {},
     "output_type": "execute_result"
    }
   ],
   "source": [
    "let print_demo' = function\n",
    "| BasicInt i -> print_endline (\"I got a basic int, and its value was \" ^ (string_of_int i))\n",
    "| String s -> print_endline (\"Just a boring string, saying '\" ^ s ^ \"'\")\n",
    "| Tuple (first, second, third) -> \n",
    "    Printf.printf \n",
    "        \"Oooh, a  tuple.   The first field was %d, the second was '%s' and the third was %0.3f\"\n",
    "            first second third"
   ]
  },
  {
   "cell_type": "code",
   "execution_count": 9,
   "metadata": {
    "collapsed": false
   },
   "outputs": [
    {
     "name": "stdout",
     "output_type": "stream",
     "text": [
      "I got a basic int, and its value was 42\n",
      "Just a boring string, saying 'hello'\n",
      "Oooh, a  tuple.   The first field was 12, the second was 'ni' and the third was 3.140"
     ]
    },
    {
     "data": {
      "text/html": [
       "<pre style=\"color:slategray;max-height:100px;overflow:hidden\" \n",
       "onclick=\"\n",
       "if (this.style.maxHeight === 'none') \n",
       "    this.style.maxHeight = '100px';\n",
       "else\n",
       "    this.style.maxHeight = 'none'; \n",
       "\">- : unit = ()\n",
       "</pre>"
      ]
     },
     "execution_count": 9,
     "metadata": {},
     "output_type": "execute_result"
    }
   ],
   "source": [
    "print_demo' (BasicInt 42);\n",
    "print_demo' (String \"hello\");\n",
    "print_demo' (Tuple (12, \"ni\", 3.14))"
   ]
  },
  {
   "cell_type": "markdown",
   "metadata": {},
   "source": [
    "In this case, we used the `function` form, which acts like a `match` but does not require us to name the variable being matched.\n",
    "\n",
    "One very powerful aspect of this style of programming is that, if we ever change the definition of the `demo` type - by adding or removing a label, or by changing the structure of a value - the compiler will tell us about all the places in the code that don't match.  This makes refactoring very pleasant.\n",
    "\n",
    "OCaml has a few other basic types, most important of which are records, demonstrated below.   With basic types, labelled variants, tuples, records and some other helpful types such as `option`, we can build almost any data structure."
   ]
  },
  {
   "cell_type": "code",
   "execution_count": 10,
   "metadata": {
    "collapsed": false
   },
   "outputs": [
    {
     "data": {
      "text/html": [
       "<pre style=\"color:slategray;max-height:100px;overflow:hidden\" \n",
       "onclick=\"\n",
       "if (this.style.maxHeight === 'none') \n",
       "    this.style.maxHeight = '100px';\n",
       "else\n",
       "    this.style.maxHeight = 'none'; \n",
       "\">type domestic_animal = Dog | Cat | Budgie | Rabbit\n",
       "</pre>"
      ]
     },
     "execution_count": 10,
     "metadata": {},
     "output_type": "execute_result"
    },
    {
     "data": {
      "text/html": [
       "<pre style=\"color:slategray;max-height:100px;overflow:hidden\" \n",
       "onclick=\"\n",
       "if (this.style.maxHeight === 'none') \n",
       "    this.style.maxHeight = '100px';\n",
       "else\n",
       "    this.style.maxHeight = 'none'; \n",
       "\">type person = {\n",
       "  name : string;\n",
       "  age : int;\n",
       "  pets : (domestic_animal * string) list;\n",
       "}\n",
       "</pre>"
      ]
     },
     "execution_count": 10,
     "metadata": {},
     "output_type": "execute_result"
    },
    {
     "data": {
      "text/html": [
       "<pre style=\"color:slategray;max-height:100px;overflow:hidden\" \n",
       "onclick=\"\n",
       "if (this.style.maxHeight === 'none') \n",
       "    this.style.maxHeight = '100px';\n",
       "else\n",
       "    this.style.maxHeight = 'none'; \n",
       "\">val people : person list =\n",
       "  [{name = &quot;Bob&quot;; age = 13; pets = [(Dog, &quot;Rover&quot;)]};\n",
       "   {name = &quot;Maria&quot;; age = 39; pets = []}]\n",
       "</pre>"
      ]
     },
     "execution_count": 10,
     "metadata": {},
     "output_type": "execute_result"
    }
   ],
   "source": [
    "type domestic_animal = Dog | Cat | Budgie | Rabbit\n",
    "type person = {\n",
    "    name : string;\n",
    "    age : int;\n",
    "    pets : (domestic_animal * string) list;\n",
    "}\n",
    "let people = [{name = \"Bob\"; age = 13; pets = [(Dog, \"Rover\")]}; {name = \"Maria\"; age = 39; pets = []}]"
   ]
  },
  {
   "cell_type": "markdown",
   "metadata": {},
   "source": [
    "### Polymorphism\n",
    "\n",
    "Sometimes we don't care what kind of data we store in a structure, or we don't need to know the type of the data passed into a function in order to do something with it.   For instance, to find the length of a list, we don't need to know the type of data in the list - we just need to know how to traverse it:"
   ]
  },
  {
   "cell_type": "code",
   "execution_count": 11,
   "metadata": {
    "collapsed": false
   },
   "outputs": [
    {
     "data": {
      "text/html": [
       "<pre style=\"color:slategray;max-height:100px;overflow:hidden\" \n",
       "onclick=\"\n",
       "if (this.style.maxHeight === 'none') \n",
       "    this.style.maxHeight = '100px';\n",
       "else\n",
       "    this.style.maxHeight = 'none'; \n",
       "\">- : 'a list -&gt; int = &lt;fun&gt;\n",
       "</pre>"
      ]
     },
     "execution_count": 11,
     "metadata": {},
     "output_type": "execute_result"
    }
   ],
   "source": [
    "List.length"
   ]
  },
  {
   "cell_type": "markdown",
   "metadata": {},
   "source": [
    "The same function can find the length of a list of strings or a list of ints, without modification:"
   ]
  },
  {
   "cell_type": "code",
   "execution_count": 12,
   "metadata": {
    "collapsed": false
   },
   "outputs": [
    {
     "name": "stdout",
     "output_type": "stream",
     "text": [
      "3 strings\n",
      "5 ints\n"
     ]
    },
    {
     "data": {
      "text/html": [
       "<pre style=\"color:slategray;max-height:100px;overflow:hidden\" \n",
       "onclick=\"\n",
       "if (this.style.maxHeight === 'none') \n",
       "    this.style.maxHeight = '100px';\n",
       "else\n",
       "    this.style.maxHeight = 'none'; \n",
       "\">- : unit = ()\n",
       "</pre>"
      ]
     },
     "execution_count": 12,
     "metadata": {},
     "output_type": "execute_result"
    }
   ],
   "source": [
    "Printf.printf \"%d strings\\n\" (List.length [\"one\"; \"two\"; \"three\"]);\n",
    "Printf.printf \"%d ints\\n\" (List.length [1;2;3;4;5])"
   ]
  },
  {
   "cell_type": "markdown",
   "metadata": {},
   "source": [
    "When defining data structures, we might not care what a particular type is, but we might want to ensure that different fields have the *same* type:"
   ]
  },
  {
   "cell_type": "code",
   "execution_count": 13,
   "metadata": {
    "collapsed": false
   },
   "outputs": [
    {
     "data": {
      "text/html": [
       "<pre style=\"color:slategray;max-height:100px;overflow:hidden\" \n",
       "onclick=\"\n",
       "if (this.style.maxHeight === 'none') \n",
       "    this.style.maxHeight = '100px';\n",
       "else\n",
       "    this.style.maxHeight = 'none'; \n",
       "\">type 'a pair = { first : 'a; second : 'a; }\n",
       "</pre>"
      ]
     },
     "execution_count": 13,
     "metadata": {},
     "output_type": "execute_result"
    }
   ],
   "source": [
    "type 'a pair = {\n",
    "    first : 'a;\n",
    "    second : 'a;\n",
    "}"
   ]
  },
  {
   "cell_type": "markdown",
   "metadata": {},
   "source": [
    "We can define a pair of ints, or a pair of strings, but not a pair of an int and a string:"
   ]
  },
  {
   "cell_type": "code",
   "execution_count": 14,
   "metadata": {
    "collapsed": false
   },
   "outputs": [
    {
     "data": {
      "text/html": [
       "<pre style=\"color:slategray;max-height:100px;overflow:hidden\" \n",
       "onclick=\"\n",
       "if (this.style.maxHeight === 'none') \n",
       "    this.style.maxHeight = '100px';\n",
       "else\n",
       "    this.style.maxHeight = 'none'; \n",
       "\">val x : int pair = {first = 1; second = 2}\n",
       "</pre>"
      ]
     },
     "execution_count": 14,
     "metadata": {},
     "output_type": "execute_result"
    },
    {
     "data": {
      "text/html": [
       "<pre style=\"color:slategray;max-height:100px;overflow:hidden\" \n",
       "onclick=\"\n",
       "if (this.style.maxHeight === 'none') \n",
       "    this.style.maxHeight = '100px';\n",
       "else\n",
       "    this.style.maxHeight = 'none'; \n",
       "\">val y : string pair = {first = &quot;foo&quot;; second = &quot;bar&quot;}\n",
       "</pre>"
      ]
     },
     "execution_count": 14,
     "metadata": {},
     "output_type": "execute_result"
    },
    {
     "data": {
      "text/html": [
       "<pre style=\"color:red;max-height:100px;overflow:hidden\" \n",
       "onclick=\"\n",
       "if (this.style.maxHeight === 'none') \n",
       "    this.style.maxHeight = '100px';\n",
       "else\n",
       "    this.style.maxHeight = 'none'; \n",
       "\">File &quot;[14]&quot;, line 3, characters 34-36:\n",
       "Error: This expression has type int but an expression was expected of type\n",
       "         string\n",
       "Characters 110-112:\n",
       "  let z = { first = &quot;foo&quot;; second = 42 }\n",
       "                                    ^^\n",
       "</pre>"
      ]
     },
     "execution_count": 14,
     "metadata": {},
     "output_type": "execute_result"
    }
   ],
   "source": [
    "let x = { first = 1; second = 2 }\n",
    "let y = { first = \"foo\"; second = \"bar\" }\n",
    "let z = { first = \"foo\"; second = 42 }"
   ]
  },
  {
   "cell_type": "markdown",
   "metadata": {},
   "source": [
    "## Modules"
   ]
  },
  {
   "cell_type": "markdown",
   "metadata": {},
   "source": [
    "Ocaml's module system does 3 major things:\n",
    "\n",
    "  * groups types and functions\n",
    "  * allows types to be made abstract, hiding their implementation details\n",
    "  * makes it possible to build generic libraries which are specialized by instantiation with different types and functions"
   ]
  },
  {
   "cell_type": "markdown",
   "metadata": {},
   "source": [
    "### Basic module use\n",
    "\n",
    "The most basic use of modules is to group types and the functions which operate on them:"
   ]
  },
  {
   "cell_type": "code",
   "execution_count": 2,
   "metadata": {
    "collapsed": false
   },
   "outputs": [
    {
     "data": {
      "text/html": [
       "<pre style=\"color:slategray;max-height:100px;overflow:hidden\" \n",
       "onclick=\"\n",
       "if (this.style.maxHeight === 'none') \n",
       "    this.style.maxHeight = '100px';\n",
       "else\n",
       "    this.style.maxHeight = 'none'; \n",
       "\">module Buf :\n",
       "  sig\n",
       "    type t = string\n",
       "    val empty : string\n",
       "    val append : string -&gt; string -&gt; string\n",
       "    val contents : 'a -&gt; 'a\n",
       "  end\n",
       "</pre>"
      ]
     },
     "execution_count": 2,
     "metadata": {},
     "output_type": "execute_result"
    }
   ],
   "source": [
    "module Buf = struct\n",
    "    type t = string\n",
    "    let empty = \"\"\n",
    "    let append buf str = buf ^ str\n",
    "    let contents buf = buf\n",
    "end"
   ]
  },
  {
   "cell_type": "code",
   "execution_count": 3,
   "metadata": {
    "collapsed": false
   },
   "outputs": [
    {
     "data": {
      "text/html": [
       "<pre style=\"color:slategray;max-height:100px;overflow:hidden\" \n",
       "onclick=\"\n",
       "if (this.style.maxHeight === 'none') \n",
       "    this.style.maxHeight = '100px';\n",
       "else\n",
       "    this.style.maxHeight = 'none'; \n",
       "\">- : string = &quot;testing testing 1 2 3&quot;\n",
       "</pre>"
      ]
     },
     "execution_count": 3,
     "metadata": {},
     "output_type": "execute_result"
    }
   ],
   "source": [
    "Buf.(contents (append (append (append empty \"testing \") \"testing \") \"1 2 3\"))"
   ]
  },
  {
   "cell_type": "markdown",
   "metadata": {},
   "source": [
    "It would be good style to hide the implementation of the `Buf` type, so we could change it later without breaking users of our library.   We can do that by creating a module signature which makes the type abstract:"
   ]
  },
  {
   "cell_type": "code",
   "execution_count": 17,
   "metadata": {
    "collapsed": false
   },
   "outputs": [
    {
     "data": {
      "text/html": [
       "<pre style=\"color:slategray;max-height:100px;overflow:hidden\" \n",
       "onclick=\"\n",
       "if (this.style.maxHeight === 'none') \n",
       "    this.style.maxHeight = '100px';\n",
       "else\n",
       "    this.style.maxHeight = 'none'; \n",
       "\">module type BUF_SIG =\n",
       "  sig\n",
       "    type t\n",
       "    val empty : t\n",
       "    val append : t -&gt; string -&gt; t\n",
       "    val contents : t -&gt; string\n",
       "  end\n",
       "</pre>"
      ]
     },
     "execution_count": 17,
     "metadata": {},
     "output_type": "execute_result"
    }
   ],
   "source": [
    "module type BUF_SIG = sig\n",
    "    type t\n",
    "    val empty : t\n",
    "    val append : t -> string -> t\n",
    "    val contents : t -> string\n",
    "end"
   ]
  },
  {
   "cell_type": "code",
   "execution_count": 18,
   "metadata": {
    "collapsed": false
   },
   "outputs": [
    {
     "data": {
      "text/html": [
       "<pre style=\"color:slategray;max-height:100px;overflow:hidden\" \n",
       "onclick=\"\n",
       "if (this.style.maxHeight === 'none') \n",
       "    this.style.maxHeight = '100px';\n",
       "else\n",
       "    this.style.maxHeight = 'none'; \n",
       "\">module AbsBuf : BUF_SIG\n",
       "</pre>"
      ]
     },
     "execution_count": 18,
     "metadata": {},
     "output_type": "execute_result"
    }
   ],
   "source": [
    "module AbsBuf : BUF_SIG = Buf"
   ]
  },
  {
   "cell_type": "code",
   "execution_count": 19,
   "metadata": {
    "collapsed": false
   },
   "outputs": [
    {
     "data": {
      "text/html": [
       "<pre style=\"color:slategray;max-height:100px;overflow:hidden\" \n",
       "onclick=\"\n",
       "if (this.style.maxHeight === 'none') \n",
       "    this.style.maxHeight = '100px';\n",
       "else\n",
       "    this.style.maxHeight = 'none'; \n",
       "\">val b : AbsBuf.t = &lt;abstr&gt;\n",
       "</pre>"
      ]
     },
     "execution_count": 19,
     "metadata": {},
     "output_type": "execute_result"
    }
   ],
   "source": [
    "let b = AbsBuf.(append empty \"now we can't tell that buf is a string\")"
   ]
  },
  {
   "cell_type": "markdown",
   "metadata": {},
   "source": [
    "The only way we can get the contents of the buffer is to use the `contents` function:"
   ]
  },
  {
   "cell_type": "code",
   "execution_count": 20,
   "metadata": {
    "collapsed": false
   },
   "outputs": [
    {
     "data": {
      "text/html": [
       "<pre style=\"color:slategray;max-height:100px;overflow:hidden\" \n",
       "onclick=\"\n",
       "if (this.style.maxHeight === 'none') \n",
       "    this.style.maxHeight = '100px';\n",
       "else\n",
       "    this.style.maxHeight = 'none'; \n",
       "\">- : string = &quot;now we can't tell that buf is a string&quot;\n",
       "</pre>"
      ]
     },
     "execution_count": 20,
     "metadata": {},
     "output_type": "execute_result"
    }
   ],
   "source": [
    "AbsBuf.contents b"
   ]
  },
  {
   "cell_type": "markdown",
   "metadata": {},
   "source": [
    "As the module is now abstract, we can replace the implementation with one based on lists which satisfies the same signature:"
   ]
  },
  {
   "cell_type": "code",
   "execution_count": 21,
   "metadata": {
    "collapsed": false
   },
   "outputs": [
    {
     "data": {
      "text/html": [
       "<pre style=\"color:slategray;max-height:100px;overflow:hidden\" \n",
       "onclick=\"\n",
       "if (this.style.maxHeight === 'none') \n",
       "    this.style.maxHeight = '100px';\n",
       "else\n",
       "    this.style.maxHeight = 'none'; \n",
       "\">module ListBuf : BUF_SIG\n",
       "</pre>"
      ]
     },
     "execution_count": 21,
     "metadata": {},
     "output_type": "execute_result"
    }
   ],
   "source": [
    "module ListBuf : BUF_SIG = struct\n",
    "    type t = string list\n",
    "    let empty = []\n",
    "    let append buf str = str :: buf\n",
    "    let contents buf = String.concat \"\" (List.rev buf)\n",
    "end"
   ]
  },
  {
   "cell_type": "code",
   "execution_count": 22,
   "metadata": {
    "collapsed": false
   },
   "outputs": [
    {
     "data": {
      "text/html": [
       "<pre style=\"color:slategray;max-height:100px;overflow:hidden\" \n",
       "onclick=\"\n",
       "if (this.style.maxHeight === 'none') \n",
       "    this.style.maxHeight = '100px';\n",
       "else\n",
       "    this.style.maxHeight = 'none'; \n",
       "\">val c : ListBuf.t = &lt;abstr&gt;\n",
       "</pre>"
      ]
     },
     "execution_count": 22,
     "metadata": {},
     "output_type": "execute_result"
    }
   ],
   "source": [
    "let c = ListBuf.(append (append (append empty \"testing \") \"testing \") \"1 2 3\")"
   ]
  },
  {
   "cell_type": "markdown",
   "metadata": {},
   "source": [
    "We can still get the contents of this buffer using the `contents` function:"
   ]
  },
  {
   "cell_type": "code",
   "execution_count": 23,
   "metadata": {
    "collapsed": false
   },
   "outputs": [
    {
     "data": {
      "text/html": [
       "<pre style=\"color:slategray;max-height:100px;overflow:hidden\" \n",
       "onclick=\"\n",
       "if (this.style.maxHeight === 'none') \n",
       "    this.style.maxHeight = '100px';\n",
       "else\n",
       "    this.style.maxHeight = 'none'; \n",
       "\">- : string = &quot;testing testing 1 2 3&quot;\n",
       "</pre>"
      ]
     },
     "execution_count": 23,
     "metadata": {},
     "output_type": "execute_result"
    }
   ],
   "source": [
    "ListBuf.contents c"
   ]
  },
  {
   "cell_type": "markdown",
   "metadata": {},
   "source": [
    "However `b` and `c` have different types, and the type system prevents us from using functions appropriate for one type on the other:"
   ]
  },
  {
   "cell_type": "code",
   "execution_count": 24,
   "metadata": {
    "collapsed": false
   },
   "outputs": [
    {
     "data": {
      "text/html": [
       "<pre style=\"color:red;max-height:100px;overflow:hidden\" \n",
       "onclick=\"\n",
       "if (this.style.maxHeight === 'none') \n",
       "    this.style.maxHeight = '100px';\n",
       "else\n",
       "    this.style.maxHeight = 'none'; \n",
       "\">File &quot;[24]&quot;, line 1, characters 17-18:\n",
       "Error: This expression has type AbsBuf.t\n",
       "       but an expression was expected of type ListBuf.t\n",
       "Characters 17-18:\n",
       "  ListBuf.contents b\n",
       "                   ^\n",
       "</pre>"
      ]
     },
     "execution_count": 24,
     "metadata": {},
     "output_type": "execute_result"
    }
   ],
   "source": [
    "ListBuf.contents b"
   ]
  },
  {
   "cell_type": "markdown",
   "metadata": {},
   "source": [
    "Let's look at an example within the toolstack code base. In xcp-idl.git/lib/scheduler.ml we declare some types with concrete definitions, for example:\n",
    "\n",
    "```ocaml\n",
    "module Delay = struct\n",
    "  (* Concrete type is the ends of a pipe *)\n",
    "  type t = {\n",
    "    (* A pipe is used to wake up a thread blocked in wait: *)\n",
    "    mutable pipe_out: Unix.file_descr option;\n",
    "    mutable pipe_in: Unix.file_descr option;\n",
    "    (* Indicates that a signal arrived before a wait: *)\n",
    "    mutable signalled: bool;\n",
    "    m: Mutex.t\n",
    "  }\n",
    "...\n",
    "end\n",
    "```\n",
    "\n",
    "but in the interface, we hide the quite ugly implementation details:\n",
    "\n",
    "```ocaml\n",
    "module Delay :\n",
    "  sig\n",
    "    type t\n",
    "\n",
    "    (** Makes a Delay.t *)\n",
    "    val make : unit -> t\n",
    "\n",
    "    (** Wait for the specified amount of time. Returns true if we waited\n",
    "        the full length of time, false if we were woken *)\n",
    "    val wait : t -> float -> bool\n",
    "\n",
    "    (** Signal anyone currently waiting with the Delay.t *)\n",
    "    val signal : t -> unit\n",
    "  end\n",
    "\n",
    "```\n",
    "\n",
    "By doing this, we can guarantee that nobody outside of the module can make any assumptions about how it's implemented, and therefore we can be free to change the way it works if it became necessary.\n",
    "\n",
    "This is an excellent refactoring technique: Make a type opaque, fixing all thing things that then break, then modify the concrete implementation."
   ]
  },
  {
   "cell_type": "markdown",
   "metadata": {},
   "source": [
    "### Functors\n",
    "\n",
    "Functors are generic modules, parameterized by other modules which can fill in types and functions used but not defined in the functor.\n",
    "\n",
    "In the following module, `L.hello` is not defined in the `Hello` functor - it will be provided when the functor is instantiated:"
   ]
  },
  {
   "cell_type": "code",
   "execution_count": 25,
   "metadata": {
    "collapsed": false
   },
   "outputs": [
    {
     "data": {
      "text/html": [
       "<pre style=\"color:slategray;max-height:100px;overflow:hidden\" \n",
       "onclick=\"\n",
       "if (this.style.maxHeight === 'none') \n",
       "    this.style.maxHeight = '100px';\n",
       "else\n",
       "    this.style.maxHeight = 'none'; \n",
       "\">module type HELLO = sig val hello : string end\n",
       "</pre>"
      ]
     },
     "execution_count": 25,
     "metadata": {},
     "output_type": "execute_result"
    },
    {
     "data": {
      "text/html": [
       "<pre style=\"color:slategray;max-height:100px;overflow:hidden\" \n",
       "onclick=\"\n",
       "if (this.style.maxHeight === 'none') \n",
       "    this.style.maxHeight = '100px';\n",
       "else\n",
       "    this.style.maxHeight = 'none'; \n",
       "\">module Hello : functor (L : HELLO) -&gt; sig val sayhi : unit -&gt; unit end\n",
       "</pre>"
      ]
     },
     "execution_count": 25,
     "metadata": {},
     "output_type": "execute_result"
    }
   ],
   "source": [
    "module type HELLO = sig\n",
    "    val hello : string\n",
    "end\n",
    "\n",
    "module Hello (L : HELLO) = struct\n",
    "    let sayhi () = Printf.printf \"%s, world!\\n\" L.hello\n",
    "end"
   ]
  },
  {
   "cell_type": "markdown",
   "metadata": {},
   "source": [
    "Here, we define three modules which match the `HELLO` signature.   Modules are structurally typed, so as long as they contain at least the types and functions mentioned in the signature, they can be used:"
   ]
  },
  {
   "cell_type": "code",
   "execution_count": 26,
   "metadata": {
    "collapsed": false
   },
   "outputs": [
    {
     "data": {
      "text/html": [
       "<pre style=\"color:slategray;max-height:100px;overflow:hidden\" \n",
       "onclick=\"\n",
       "if (this.style.maxHeight === 'none') \n",
       "    this.style.maxHeight = '100px';\n",
       "else\n",
       "    this.style.maxHeight = 'none'; \n",
       "\">module EN : sig val hello : string end\n",
       "</pre>"
      ]
     },
     "execution_count": 26,
     "metadata": {},
     "output_type": "execute_result"
    },
    {
     "data": {
      "text/html": [
       "<pre style=\"color:slategray;max-height:100px;overflow:hidden\" \n",
       "onclick=\"\n",
       "if (this.style.maxHeight === 'none') \n",
       "    this.style.maxHeight = '100px';\n",
       "else\n",
       "    this.style.maxHeight = 'none'; \n",
       "\">module DE : sig val hello : string val goodbye : string end\n",
       "</pre>"
      ]
     },
     "execution_count": 26,
     "metadata": {},
     "output_type": "execute_result"
    },
    {
     "data": {
      "text/html": [
       "<pre style=\"color:slategray;max-height:100px;overflow:hidden\" \n",
       "onclick=\"\n",
       "if (this.style.maxHeight === 'none') \n",
       "    this.style.maxHeight = '100px';\n",
       "else\n",
       "    this.style.maxHeight = 'none'; \n",
       "\">module PT :\n",
       "  sig\n",
       "    val hello : string\n",
       "    val goodbye : string\n",
       "    val good_morning : string\n",
       "    val good_afternoon : string\n",
       "    val good_night : string\n",
       "  end\n",
       "</pre>"
      ]
     },
     "execution_count": 26,
     "metadata": {},
     "output_type": "execute_result"
    }
   ],
   "source": [
    "module EN = struct\n",
    "    let hello = \"hello\"\n",
    "end\n",
    "\n",
    "module DE = struct\n",
    "    let hello = \"hallo\"\n",
    "    let goodbye = \"auf wiedersehen\"\n",
    "end\n",
    "\n",
    "module PT = struct\n",
    "    let hello = \"ola\"\n",
    "    let goodbye = \"adeus\"\n",
    "    let good_morning = \"bom dia\"\n",
    "    let good_afternoon = \"boa tarde\"\n",
    "    let good_night = \"boa noite\"\n",
    "end"
   ]
  },
  {
   "cell_type": "markdown",
   "metadata": {},
   "source": [
    "We instantiate the functor with each of our modules.   Instantiating a functor yields a module like any other:"
   ]
  },
  {
   "cell_type": "code",
   "execution_count": 27,
   "metadata": {
    "collapsed": false
   },
   "outputs": [
    {
     "data": {
      "text/html": [
       "<pre style=\"color:slategray;max-height:100px;overflow:hidden\" \n",
       "onclick=\"\n",
       "if (this.style.maxHeight === 'none') \n",
       "    this.style.maxHeight = '100px';\n",
       "else\n",
       "    this.style.maxHeight = 'none'; \n",
       "\">module HelloEN : sig val sayhi : unit -&gt; unit end\n",
       "</pre>"
      ]
     },
     "execution_count": 27,
     "metadata": {},
     "output_type": "execute_result"
    },
    {
     "data": {
      "text/html": [
       "<pre style=\"color:slategray;max-height:100px;overflow:hidden\" \n",
       "onclick=\"\n",
       "if (this.style.maxHeight === 'none') \n",
       "    this.style.maxHeight = '100px';\n",
       "else\n",
       "    this.style.maxHeight = 'none'; \n",
       "\">module HelloDE : sig val sayhi : unit -&gt; unit end\n",
       "</pre>"
      ]
     },
     "execution_count": 27,
     "metadata": {},
     "output_type": "execute_result"
    },
    {
     "data": {
      "text/html": [
       "<pre style=\"color:slategray;max-height:100px;overflow:hidden\" \n",
       "onclick=\"\n",
       "if (this.style.maxHeight === 'none') \n",
       "    this.style.maxHeight = '100px';\n",
       "else\n",
       "    this.style.maxHeight = 'none'; \n",
       "\">module HelloPT : sig val sayhi : unit -&gt; unit end\n",
       "</pre>"
      ]
     },
     "execution_count": 27,
     "metadata": {},
     "output_type": "execute_result"
    }
   ],
   "source": [
    "module HelloEN = Hello (EN)\n",
    "module HelloDE = Hello (DE)\n",
    "module HelloPT = Hello (PT)"
   ]
  },
  {
   "cell_type": "code",
   "execution_count": 28,
   "metadata": {
    "collapsed": false
   },
   "outputs": [
    {
     "name": "stdout",
     "output_type": "stream",
     "text": [
      "hello, world!\n",
      "hallo, world!\n",
      "ola, world!\n"
     ]
    },
    {
     "data": {
      "text/html": [
       "<pre style=\"color:slategray;max-height:100px;overflow:hidden\" \n",
       "onclick=\"\n",
       "if (this.style.maxHeight === 'none') \n",
       "    this.style.maxHeight = '100px';\n",
       "else\n",
       "    this.style.maxHeight = 'none'; \n",
       "\">- : unit = ()\n",
       "</pre>"
      ]
     },
     "execution_count": 28,
     "metadata": {},
     "output_type": "execute_result"
    }
   ],
   "source": [
    "HelloEN.sayhi(); HelloDE.sayhi(); HelloPT.sayhi()"
   ]
  },
  {
   "cell_type": "markdown",
   "metadata": {},
   "source": [
    "The `GOODBYE` interface is similar:"
   ]
  },
  {
   "cell_type": "code",
   "execution_count": 29,
   "metadata": {
    "collapsed": false
   },
   "outputs": [
    {
     "data": {
      "text/html": [
       "<pre style=\"color:slategray;max-height:100px;overflow:hidden\" \n",
       "onclick=\"\n",
       "if (this.style.maxHeight === 'none') \n",
       "    this.style.maxHeight = '100px';\n",
       "else\n",
       "    this.style.maxHeight = 'none'; \n",
       "\">module type GOODBYE = sig val goodbye : string end\n",
       "</pre>"
      ]
     },
     "execution_count": 29,
     "metadata": {},
     "output_type": "execute_result"
    },
    {
     "data": {
      "text/html": [
       "<pre style=\"color:slategray;max-height:100px;overflow:hidden\" \n",
       "onclick=\"\n",
       "if (this.style.maxHeight === 'none') \n",
       "    this.style.maxHeight = '100px';\n",
       "else\n",
       "    this.style.maxHeight = 'none'; \n",
       "\">module Goodbye : functor (L : GOODBYE) -&gt; sig val saybye : unit -&gt; unit end\n",
       "</pre>"
      ]
     },
     "execution_count": 29,
     "metadata": {},
     "output_type": "execute_result"
    }
   ],
   "source": [
    "module type GOODBYE = sig\n",
    "    val goodbye : string\n",
    "end\n",
    "\n",
    "module Goodbye (L : GOODBYE) = struct\n",
    "    let saybye () = Printf.printf \"%s, C++\\n\" L.goodbye\n",
    "end"
   ]
  },
  {
   "cell_type": "code",
   "execution_count": 30,
   "metadata": {
    "collapsed": false
   },
   "outputs": [
    {
     "data": {
      "text/html": [
       "<pre style=\"color:slategray;max-height:100px;overflow:hidden\" \n",
       "onclick=\"\n",
       "if (this.style.maxHeight === 'none') \n",
       "    this.style.maxHeight = '100px';\n",
       "else\n",
       "    this.style.maxHeight = 'none'; \n",
       "\">module GoodbyeDE : sig val saybye : unit -&gt; unit end\n",
       "</pre>"
      ]
     },
     "execution_count": 30,
     "metadata": {},
     "output_type": "execute_result"
    }
   ],
   "source": [
    "module GoodbyeDE = Goodbye(DE)"
   ]
  },
  {
   "cell_type": "code",
   "execution_count": 31,
   "metadata": {
    "collapsed": false
   },
   "outputs": [
    {
     "name": "stdout",
     "output_type": "stream",
     "text": [
      "auf wiedersehen, C++\n"
     ]
    },
    {
     "data": {
      "text/html": [
       "<pre style=\"color:slategray;max-height:100px;overflow:hidden\" \n",
       "onclick=\"\n",
       "if (this.style.maxHeight === 'none') \n",
       "    this.style.maxHeight = '100px';\n",
       "else\n",
       "    this.style.maxHeight = 'none'; \n",
       "\">- : unit = ()\n",
       "</pre>"
      ]
     },
     "execution_count": 31,
     "metadata": {},
     "output_type": "execute_result"
    }
   ],
   "source": [
    "GoodbyeDE.saybye()"
   ]
  },
  {
   "cell_type": "markdown",
   "metadata": {},
   "source": [
    "However the `EN` module does not satisfy this interface and cannot be used with `Goodbye`:"
   ]
  },
  {
   "cell_type": "code",
   "execution_count": 32,
   "metadata": {
    "collapsed": false
   },
   "outputs": [
    {
     "data": {
      "text/html": [
       "<pre style=\"color:red;max-height:100px;overflow:hidden\" \n",
       "onclick=\"\n",
       "if (this.style.maxHeight === 'none') \n",
       "    this.style.maxHeight = '100px';\n",
       "else\n",
       "    this.style.maxHeight = 'none'; \n",
       "\">File &quot;[32]&quot;, line 1, characters 27-29:\n",
       "Error: Signature mismatch:\n",
       "       Modules do not match:\n",
       "         sig val hello : string end\n",
       "       is not included in\n",
       "         GOODBYE\n",
       "       The value `goodbye' is required but not provided\n",
       "       File &quot;[29]&quot;, line 2, characters 4-24: Expected declaration\n",
       "Characters 27-29:\n",
       "  module GoodbyeEN = Goodbye(EN)\n",
       "                             ^^\n",
       "</pre>"
      ]
     },
     "execution_count": 32,
     "metadata": {},
     "output_type": "execute_result"
    }
   ],
   "source": [
    "module GoodbyeEN = Goodbye(EN)"
   ]
  },
  {
   "cell_type": "markdown",
   "metadata": {},
   "source": [
    "Let's look at an example of this sort of thing in Xapi's database module.\n",
    "\n",
    "http://github.com/xapi-project/xen-api/blob/master/ocaml/database/db_cache_types.ml"
   ]
  },
  {
   "cell_type": "markdown",
   "metadata": {},
   "source": [
    "A functor can be parameterized by more than one module:"
   ]
  },
  {
   "cell_type": "code",
   "execution_count": 33,
   "metadata": {
    "collapsed": false
   },
   "outputs": [
    {
     "data": {
      "text/html": [
       "<pre style=\"color:slategray;max-height:100px;overflow:hidden\" \n",
       "onclick=\"\n",
       "if (this.style.maxHeight === 'none') \n",
       "    this.style.maxHeight = '100px';\n",
       "else\n",
       "    this.style.maxHeight = 'none'; \n",
       "\">module SayItDifferently :\n",
       "  functor\n",
       "    (P : sig val postprocess : string -&gt; string end) (L : sig\n",
       "                                                            val good_afternoon :\n",
       "                                                              string\n",
       "                                                          end) -&gt;\n",
       "    sig val saybye : unit -&gt; unit end\n",
       "</pre>"
      ]
     },
     "execution_count": 33,
     "metadata": {},
     "output_type": "execute_result"
    }
   ],
   "source": [
    "module SayItDifferently(P : sig val postprocess : string -> string end)(L : sig val good_afternoon : string end) = struct\n",
    "    let saybye () = Printf.printf \"%s\\n\" (P.postprocess L.good_afternoon)\n",
    "end"
   ]
  },
  {
   "cell_type": "markdown",
   "metadata": {},
   "source": [
    "The `SayItDifferently` functor expects a module providing a `good_afternoon` function, but also another module providing a `postprocess` function, which it applies to the output of `good_afternoon`.   We can instantiate it as follows:"
   ]
  },
  {
   "cell_type": "code",
   "execution_count": 34,
   "metadata": {
    "collapsed": false
   },
   "outputs": [
    {
     "data": {
      "text/html": [
       "<pre style=\"color:slategray;max-height:100px;overflow:hidden\" \n",
       "onclick=\"\n",
       "if (this.style.maxHeight === 'none') \n",
       "    this.style.maxHeight = '100px';\n",
       "else\n",
       "    this.style.maxHeight = 'none'; \n",
       "\">module SayItDifferentlyPT : sig val saybye : unit -&gt; unit end\n",
       "</pre>"
      ]
     },
     "execution_count": 34,
     "metadata": {},
     "output_type": "execute_result"
    }
   ],
   "source": [
    "module SayItDifferentlyPT = SayItDifferently(struct let postprocess = String.uppercase end)(PT)"
   ]
  },
  {
   "cell_type": "code",
   "execution_count": 35,
   "metadata": {
    "collapsed": false
   },
   "outputs": [
    {
     "name": "stdout",
     "output_type": "stream",
     "text": [
      "BOA TARDE\n"
     ]
    },
    {
     "data": {
      "text/html": [
       "<pre style=\"color:slategray;max-height:100px;overflow:hidden\" \n",
       "onclick=\"\n",
       "if (this.style.maxHeight === 'none') \n",
       "    this.style.maxHeight = '100px';\n",
       "else\n",
       "    this.style.maxHeight = 'none'; \n",
       "\">- : unit = ()\n",
       "</pre>"
      ]
     },
     "execution_count": 35,
     "metadata": {},
     "output_type": "execute_result"
    }
   ],
   "source": [
    "SayItDifferentlyPT.saybye()"
   ]
  },
  {
   "cell_type": "markdown",
   "metadata": {},
   "source": [
    "## Phantom types"
   ]
  },
  {
   "cell_type": "markdown",
   "metadata": {},
   "source": [
    "Here is a module that wraps access to a resource.   We will use an int to represent a file descriptor.     The \"file\" can be opened read-write and read-only, and we need to make sure that a user of our module can't write to a read-only file:"
   ]
  },
  {
   "cell_type": "code",
   "execution_count": 36,
   "metadata": {
    "collapsed": false
   },
   "outputs": [
    {
     "name": "stdout",
     "output_type": "stream",
     "text": [
      "wrote hello\n"
     ]
    },
    {
     "data": {
      "text/html": [
       "<pre style=\"color:slategray;max-height:100px;overflow:hidden\" \n",
       "onclick=\"\n",
       "if (this.style.maxHeight === 'none') \n",
       "    this.style.maxHeight = '100px';\n",
       "else\n",
       "    this.style.maxHeight = 'none'; \n",
       "\">module File :\n",
       "  sig\n",
       "    type t\n",
       "    val open_readwrite : string -&gt; t\n",
       "    val open_readonly : string -&gt; t\n",
       "    val read : t -&gt; string\n",
       "    val write : t -&gt; string -&gt; unit\n",
       "  end\n",
       "</pre>"
      ]
     },
     "execution_count": 36,
     "metadata": {},
     "output_type": "execute_result"
    },
    {
     "data": {
      "text/html": [
       "<pre style=\"color:slategray;max-height:100px;overflow:hidden\" \n",
       "onclick=\"\n",
       "if (this.style.maxHeight === 'none') \n",
       "    this.style.maxHeight = '100px';\n",
       "else\n",
       "    this.style.maxHeight = 'none'; \n",
       "\">- : unit = ()\n",
       "</pre>"
      ]
     },
     "execution_count": 36,
     "metadata": {},
     "output_type": "execute_result"
    }
   ],
   "source": [
    "module File : sig\n",
    "   type t\n",
    "   val open_readwrite : string -> t\n",
    "   val open_readonly : string -> t\n",
    "   val read : t -> string\n",
    "   val write : t -> string -> unit\n",
    "end = struct\n",
    "   type t = int\n",
    "   let open_readwrite filename = 42\n",
    "   let open_readonly filename = 42\n",
    "   let read f = \"test\"\n",
    "   let write f s = Printf.printf \"wrote %s\\n\" s\n",
    "end\n",
    "\n",
    "let _ =\n",
    "   let f = File.open_readonly \"whatever\" in\n",
    "   File.write f \"hello\"  (* oops *)\n"
   ]
  },
  {
   "cell_type": "markdown",
   "metadata": {},
   "source": [
    "In the example above, we opened a file read-only and then wrote to it.   With a bit more book-keeping, we could make `write` raise an exception.   However in this case we can use the type system to make writing to a read-only file a _compile time_ error, rather than a runtime error.  The technique we will use is called a Phantom Type:"
   ]
  },
  {
   "cell_type": "code",
   "execution_count": 37,
   "metadata": {
    "collapsed": false
   },
   "outputs": [
    {
     "data": {
      "text/html": [
       "<pre style=\"color:slategray;max-height:100px;overflow:hidden\" \n",
       "onclick=\"\n",
       "if (this.style.maxHeight === 'none') \n",
       "    this.style.maxHeight = '100px';\n",
       "else\n",
       "    this.style.maxHeight = 'none'; \n",
       "\">module PFile :\n",
       "  sig\n",
       "    type ro\n",
       "    type rw\n",
       "    type 'a t\n",
       "    val open_readwrite : string -&gt; rw t\n",
       "    val open_readonly : string -&gt; ro t\n",
       "    val read : 'a t -&gt; string\n",
       "    val write : rw t -&gt; string -&gt; unit\n",
       "  end\n",
       "</pre>"
      ]
     },
     "execution_count": 37,
     "metadata": {},
     "output_type": "execute_result"
    },
    {
     "data": {
      "text/html": [
       "<pre style=\"color:red;max-height:100px;overflow:hidden\" \n",
       "onclick=\"\n",
       "if (this.style.maxHeight === 'none') \n",
       "    this.style.maxHeight = '100px';\n",
       "else\n",
       "    this.style.maxHeight = 'none'; \n",
       "\">File &quot;[37]&quot;, line 21, characters 15-16:\n",
       "Error: This expression has type PFile.ro PFile.t\n",
       "       but an expression was expected of type PFile.rw PFile.t\n",
       "       Type PFile.ro is not compatible with type PFile.rw \n",
       "Characters 467-468:\n",
       "     PFile.write f &quot;hello&quot;\n",
       "                 ^\n",
       "</pre>"
      ]
     },
     "execution_count": 37,
     "metadata": {},
     "output_type": "execute_result"
    }
   ],
   "source": [
    "module PFile : sig\n",
    "   type ro\n",
    "   type rw\n",
    "   type 'a t\n",
    "   val open_readwrite : string -> rw t\n",
    "   val open_readonly : string -> ro t\n",
    "   val read : 'a t -> string\n",
    "   val write : rw t -> string -> unit\n",
    "end = struct\n",
    "   type ro\n",
    "   type rw\n",
    "   type 'a t = int\n",
    "   let open_readwrite filename = 42\n",
    "   let open_readonly filename = 42\n",
    "   let read f = \"test\"\n",
    "   let write f s = Printf.printf \"wrote %s\\n\" s\n",
    "end\n",
    "\n",
    "let _ =\n",
    "   let f = PFile.open_readonly \"whatever\" in\n",
    "   PFile.write f \"hello\"\n"
   ]
  },
  {
   "cell_type": "markdown",
   "metadata": {},
   "source": [
    "`File` and `PFile` are very similar: in particular, the function implementations are identical.  The only changes we have made are to introduce two new types, `ro` and `rw`, and to make `t` a parameterized type.   `ro` and `rw` are empty - we can't make values with those types, but we can use them to _tag_ values of type `t`.   We then add some constraints to the function types to say that, for example, `open_readonly` returns a `t` tagged with `ro`, and `write` requires a `t` tagged `ro`.   The type system tracks those constraints and won't let us call `write` with a `ro t`.   `read` can take any kind of `t`.   These constraints are all checked at compile-time - no extra object code is generated."
   ]
  },
  {
   "cell_type": "markdown",
   "metadata": {},
   "source": [
    "Once again, let's look in xapi's code to see where we use this. In this case, API references use phantom types to distinguish between a reference for a VM and a host for example.\n",
    "\n",
    "[ref.ml](http://github.com/xapi-project/xen-api/blob/master/ocaml/xapi-types/ref.ml) defines a type `t` with a phantom type parameter. Internally, it's just a string, but we hide that from everyone else by declaring it abstract in the [ref.mli](http://github.com/xapi-project/xen-api/blob/master/ocaml/xapi-types/ref.mli) file.\n",
    "\n",
    "The generated file aPI.ml then declared types using this Ref.t:\n",
    "\n",
    "```ocaml\n",
    "type ref_VM = [`VM] Ref.t \n",
    "```\n",
    "\n",
    "then the signatures of functions that operate on VM references can use this, for example, `get_record`:\n",
    "\n",
    "```ocaml\n",
    "val get_record : rpc:(Rpc.call -> Rpc.response) -> session_id:ref_session -> self:ref_VM -> vM_t\n",
    "```\n",
    "\n",
    "This means that although references are just strings internally, we can never accidentally mix up one type of reference for another."
   ]
  },
  {
   "cell_type": "code",
   "execution_count": null,
   "metadata": {
    "collapsed": true
   },
   "outputs": [],
   "source": [
    "    "
   ]
  }
 ],
 "metadata": {
  "kernelspec": {
   "display_name": "OCaml",
   "language": "ocaml",
   "name": "iocaml-kernel"
  },
  "language_info": {
   "name": "ocaml",
   "version": "4.1.0"
  }
 },
 "nbformat": 4,
 "nbformat_minor": 0
}
